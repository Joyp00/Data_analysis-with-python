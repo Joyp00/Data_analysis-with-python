{
 "cells": [
  {
   "cell_type": "code",
   "execution_count": 2,
   "metadata": {},
   "outputs": [],
   "source": [
    "import pandas as pd\n",
    "import csv\n",
    "import numpy as np"
   ]
  },
  {
   "cell_type": "code",
   "execution_count": 3,
   "metadata": {},
   "outputs": [
    {
     "data": {
      "text/html": [
       "<div>\n",
       "<style scoped>\n",
       "    .dataframe tbody tr th:only-of-type {\n",
       "        vertical-align: middle;\n",
       "    }\n",
       "\n",
       "    .dataframe tbody tr th {\n",
       "        vertical-align: top;\n",
       "    }\n",
       "\n",
       "    .dataframe thead th {\n",
       "        text-align: right;\n",
       "    }\n",
       "</style>\n",
       "<table border=\"1\" class=\"dataframe\">\n",
       "  <thead>\n",
       "    <tr style=\"text-align: right;\">\n",
       "      <th></th>\n",
       "      <th>user_id</th>\n",
       "      <th>age</th>\n",
       "      <th>workclass</th>\n",
       "      <th>salary</th>\n",
       "      <th>education_rank</th>\n",
       "      <th>marital-status</th>\n",
       "      <th>occupation</th>\n",
       "      <th>race</th>\n",
       "      <th>sex</th>\n",
       "      <th>mins_beerdrinking_year</th>\n",
       "      <th>mins_exercising_year</th>\n",
       "      <th>works_hours</th>\n",
       "      <th>tea_per_year</th>\n",
       "      <th>coffee_per_year</th>\n",
       "      <th>great_customer_class</th>\n",
       "    </tr>\n",
       "  </thead>\n",
       "  <tbody>\n",
       "    <tr>\n",
       "      <th>0</th>\n",
       "      <td>1004889</td>\n",
       "      <td>14.0</td>\n",
       "      <td>private</td>\n",
       "      <td>70773.00</td>\n",
       "      <td>9</td>\n",
       "      <td>Never-married</td>\n",
       "      <td>sales</td>\n",
       "      <td>not_caucasian</td>\n",
       "      <td>Male</td>\n",
       "      <td>0.0</td>\n",
       "      <td>0.0</td>\n",
       "      <td>40</td>\n",
       "      <td>399.0</td>\n",
       "      <td>NaN</td>\n",
       "      <td>0</td>\n",
       "    </tr>\n",
       "    <tr>\n",
       "      <th>1</th>\n",
       "      <td>1012811</td>\n",
       "      <td>25.0</td>\n",
       "      <td>private</td>\n",
       "      <td>76597.00</td>\n",
       "      <td>9</td>\n",
       "      <td>Divorced</td>\n",
       "      <td>sales</td>\n",
       "      <td>caucasian</td>\n",
       "      <td>Female</td>\n",
       "      <td>0.0</td>\n",
       "      <td>0.0</td>\n",
       "      <td>30</td>\n",
       "      <td>256.0</td>\n",
       "      <td>NaN</td>\n",
       "      <td>0</td>\n",
       "    </tr>\n",
       "    <tr>\n",
       "      <th>2</th>\n",
       "      <td>1006870</td>\n",
       "      <td>21.0</td>\n",
       "      <td>private</td>\n",
       "      <td>47947.25</td>\n",
       "      <td>10</td>\n",
       "      <td>Never-married</td>\n",
       "      <td>clerical</td>\n",
       "      <td>caucasian</td>\n",
       "      <td>Female</td>\n",
       "      <td>0.0</td>\n",
       "      <td>0.0</td>\n",
       "      <td>10</td>\n",
       "      <td>442.0</td>\n",
       "      <td>276.0</td>\n",
       "      <td>0</td>\n",
       "    </tr>\n",
       "    <tr>\n",
       "      <th>3</th>\n",
       "      <td>1022149</td>\n",
       "      <td>23.0</td>\n",
       "      <td>private</td>\n",
       "      <td>41740.25</td>\n",
       "      <td>7</td>\n",
       "      <td>Divorced</td>\n",
       "      <td>sales</td>\n",
       "      <td>caucasian</td>\n",
       "      <td>Female</td>\n",
       "      <td>0.0</td>\n",
       "      <td>0.0</td>\n",
       "      <td>20</td>\n",
       "      <td>NaN</td>\n",
       "      <td>NaN</td>\n",
       "      <td>0</td>\n",
       "    </tr>\n",
       "    <tr>\n",
       "      <th>4</th>\n",
       "      <td>1029558</td>\n",
       "      <td>26.0</td>\n",
       "      <td>private</td>\n",
       "      <td>NaN</td>\n",
       "      <td>9</td>\n",
       "      <td>Married</td>\n",
       "      <td>sales</td>\n",
       "      <td>not_caucasian</td>\n",
       "      <td>Male</td>\n",
       "      <td>NaN</td>\n",
       "      <td>0.0</td>\n",
       "      <td>36</td>\n",
       "      <td>NaN</td>\n",
       "      <td>120.0</td>\n",
       "      <td>0</td>\n",
       "    </tr>\n",
       "  </tbody>\n",
       "</table>\n",
       "</div>"
      ],
      "text/plain": [
       "   user_id   age workclass    salary  education_rank marital-status  \\\n",
       "0  1004889  14.0   private  70773.00               9  Never-married   \n",
       "1  1012811  25.0   private  76597.00               9       Divorced   \n",
       "2  1006870  21.0   private  47947.25              10  Never-married   \n",
       "3  1022149  23.0   private  41740.25               7       Divorced   \n",
       "4  1029558  26.0   private       NaN               9        Married   \n",
       "\n",
       "  occupation           race     sex  mins_beerdrinking_year  \\\n",
       "0      sales  not_caucasian    Male                     0.0   \n",
       "1      sales      caucasian  Female                     0.0   \n",
       "2   clerical      caucasian  Female                     0.0   \n",
       "3      sales      caucasian  Female                     0.0   \n",
       "4      sales  not_caucasian    Male                     NaN   \n",
       "\n",
       "   mins_exercising_year  works_hours  tea_per_year  coffee_per_year  \\\n",
       "0                   0.0           40         399.0              NaN   \n",
       "1                   0.0           30         256.0              NaN   \n",
       "2                   0.0           10         442.0            276.0   \n",
       "3                   0.0           20           NaN              NaN   \n",
       "4                   0.0           36           NaN            120.0   \n",
       "\n",
       "   great_customer_class  \n",
       "0                     0  \n",
       "1                     0  \n",
       "2                     0  \n",
       "3                     0  \n",
       "4                     0  "
      ]
     },
     "execution_count": 3,
     "metadata": {},
     "output_type": "execute_result"
    }
   ],
   "source": [
    "data = pd.read_csv('great_customers.csv')\n",
    "data.head()"
   ]
  },
  {
   "cell_type": "code",
   "execution_count": 15,
   "metadata": {},
   "outputs": [
    {
     "data": {
      "text/plain": [
       "0    12431\n",
       "1     1168\n",
       "Name: great_customer_class, dtype: int64"
      ]
     },
     "execution_count": 15,
     "metadata": {},
     "output_type": "execute_result"
    }
   ],
   "source": [
    "data['great_customer_class'].value_counts()"
   ]
  },
  {
   "cell_type": "code",
   "execution_count": 16,
   "metadata": {},
   "outputs": [],
   "source": [
    "#cleaning data:\n",
    "data['mins_beerdrinking_year'].isna()\n",
    "data['mins_beerdrinking_year'].fillna(0,inplace=True)\n",
    "data['mins_exercising_year'].fillna(0,inplace=True)\n",
    "data['tea_per_year'].fillna(0,inplace=True)\n",
    "data['salary'].fillna(0,inplace=True)\n",
    "data['age'].fillna(0,inplace=True)"
   ]
  },
  {
   "cell_type": "code",
   "execution_count": 42,
   "metadata": {},
   "outputs": [],
   "source": [
    "def p_value(v):\n",
    "    if v >= .5 and v <= .99997:\n",
    "        print(\"p_value: \",2*(1-v))\n",
    "        if 2*(1-v) > 0.05:\n",
    "            print(\"Feature is not rejected\")\n",
    "        else:\n",
    "            print(\"Feature is rejected\")\n",
    "       \n",
    "    elif v <= .46414 and v >= .00005:\n",
    "        print(\"p_value: \",abs(2*v))\n",
    "        if abs(2*v) > 0.05:\n",
    "            print(\"Feature is not rejected\")\n",
    "        else:\n",
    "            print(\"Feature is rejected\")    \n"
   ]
  },
  {
   "cell_type": "code",
   "execution_count": 36,
   "metadata": {},
   "outputs": [
    {
     "name": "stdout",
     "output_type": "stream",
     "text": [
      "population mean for age:  43.453783366424\n",
      "Sample mean of age:  32.745\n",
      "sample std for age:  15.356756656273484\n",
      "z-score for salary:  -9.861787232999786\n",
      "Feature is rejected\n"
     ]
    }
   ],
   "source": [
    "#calculating p-value for age:\n",
    "\n",
    "#population mean:\n",
    "population_mean = data['age'].mean()\n",
    "print(\"population mean for age: \",population_mean)\n",
    "\n",
    "#sample mean:\n",
    "sample = 200\n",
    "sum = 0.0\n",
    "for i in range(sample):\n",
    "    sum += data['age'].iloc[i]\n",
    "    sample_mean = sum/sample\n",
    "print(\"Sample mean of age: \",sample_mean)\n",
    "\n",
    "#calculating sample standard deviation:\n",
    "deviation_sum = 0\n",
    "for i in range(sample):\n",
    "    deviation_sum += abs((data['age'].iloc[i]- sample_mean))**2   \n",
    "sample_std = np.sqrt(deviation_sum/sample)\n",
    "print(\"sample std for age: \",sample_std)\n",
    "\n",
    "#calculating z-score:\n",
    "z = (sample_mean - population_mean)/(sample_std/np.sqrt(sample))\n",
    "print(\"z-score for age: \",z)\n",
    "if z > 3.9 or z < -3.9:\n",
    "    print(\"Feature is rejected\")\n",
    "else:\n",
    "    #calculating p-value:\n",
    "    p_value() #probability for z-score(0.0) = 0.5 #suppose significance level alpha = 0.05\n",
    "    \n"
   ]
  },
  {
   "cell_type": "code",
   "execution_count": 15,
   "metadata": {},
   "outputs": [
    {
     "name": "stdout",
     "output_type": "stream",
     "text": [
      "population mean for salary:  35996.491745716594\n",
      "Sample mean of salary:  43095.50875\n",
      "sample std for salary:  23555.11190145859\n",
      "z-score for salary:  4.262143253224427\n",
      "Feature is rejected\n"
     ]
    }
   ],
   "source": [
    "#calculating p-value for salary:\n",
    "\n",
    "#population mean:\n",
    "population_mean = data['salary'].mean()\n",
    "print(\"population mean for salary: \",population_mean)\n",
    "\n",
    "#sample mean:\n",
    "sample = 200\n",
    "sum = 0.0\n",
    "for i in range(sample):\n",
    "    sum += data['salary'].iloc[i]\n",
    "    sample_mean = sum/sample\n",
    "print(\"Sample mean of salary: \",sample_mean)\n",
    "\n",
    "#calculating sample standard deviation:\n",
    "deviation_sum = 0\n",
    "for i in range(sample):\n",
    "    deviation_sum += abs((data['salary'].iloc[i]- sample_mean))**2   \n",
    "sample_std = np.sqrt(deviation_sum/sample)\n",
    "print(\"sample std for salary: \",sample_std)\n",
    "\n",
    "#calculating z-score:\n",
    "z = (sample_mean - population_mean)/(sample_std/np.sqrt(sample))\n",
    "print(\"z-score for salary: \",z)\n",
    "if z > 3.9 or z < -3.9:\n",
    "    print(\"Feature is rejected\")\n",
    "else:\n",
    "    #calculating p-value:\n",
    "    p_value() #probability for z-score(0.0) = 0.5 #suppose significance level alpha = 0.05\n",
    "\n"
   ]
  },
  {
   "cell_type": "code",
   "execution_count": 21,
   "metadata": {},
   "outputs": [
    {
     "name": "stdout",
     "output_type": "stream",
     "text": [
      "population mean for education_rank:  10.67541731009633\n",
      "Sample mean of education_rank:  9.895\n",
      "sample std for education_rank:  2.223505115802525\n",
      "z-score for education_rank:  -4.963679806289146\n",
      "Feature is rejected\n"
     ]
    }
   ],
   "source": [
    "#calculating p-value for education_rank:\n",
    "\n",
    "#population mean:\n",
    "population_mean = data['education_rank'].mean()\n",
    "print(\"population mean for education_rank: \",population_mean)\n",
    "\n",
    "#sample mean:\n",
    "sample = 200\n",
    "sum = 0.0\n",
    "for i in range(sample):\n",
    "    sum += data['education_rank'].iloc[i]\n",
    "    sample_mean = sum/sample\n",
    "print(\"Sample mean of education_rank: \",sample_mean)\n",
    "\n",
    "#calculating sample standard deviation:\n",
    "deviation_sum = 0\n",
    "for i in range(sample):\n",
    "    deviation_sum += abs((data['education_rank'].iloc[i]- sample_mean))**2   \n",
    "sample_std = np.sqrt(deviation_sum/sample)\n",
    "print(\"sample std for education_rank: \",sample_std)\n",
    "\n",
    "#calculating z-score:\n",
    "z = (sample_mean - population_mean)/(sample_std/np.sqrt(sample))\n",
    "print(\"z-score for education_rank: \",z)\n",
    "if z > 3.9 or z < -3.9:\n",
    "    print(\"Feature is rejected\")\n",
    "else:\n",
    "    #calculating p-value:\n",
    "    p_value() #probability for z-score(0.0) = 0.5 #suppose significance level alpha = 0.05"
   ]
  },
  {
   "cell_type": "code",
   "execution_count": 22,
   "metadata": {},
   "outputs": [
    {
     "name": "stdout",
     "output_type": "stream",
     "text": [
      "population mean for mins_beerdrinking_year:  433.95499669093317\n",
      "Sample mean of mins_beerdrinking_year:  73.515\n",
      "sample std for mins_beerdrinking_year:  502.1321736106925\n",
      "z-score for mins_beerdrinking_year:  -10.151493143262245\n",
      "Feature is rejected\n"
     ]
    }
   ],
   "source": [
    "#calculating p-value for mins_beerdrinking_year:\n",
    "\n",
    "#population mean:\n",
    "population_mean = data['mins_beerdrinking_year'].mean()\n",
    "print(\"population mean for mins_beerdrinking_year: \",population_mean)\n",
    "\n",
    "#sample mean:\n",
    "sample = 200\n",
    "sum = 0.0\n",
    "for i in range(sample):\n",
    "    sum += data['mins_beerdrinking_year'].iloc[i]\n",
    "    sample_mean = sum/sample\n",
    "print(\"Sample mean of mins_beerdrinking_year: \",sample_mean)\n",
    "\n",
    "#calculating sample standard deviation:\n",
    "deviation_sum = 0\n",
    "for i in range(sample):\n",
    "    deviation_sum += abs((data['mins_beerdrinking_year'].iloc[i]- sample_mean))**2   \n",
    "sample_std = np.sqrt(deviation_sum/sample)\n",
    "print(\"sample std for mins_beerdrinking_year: \",sample_std)\n",
    "\n",
    "#calculating z-score:\n",
    "z = (sample_mean - population_mean)/(sample_std/np.sqrt(sample))\n",
    "print(\"z-score for mins_beerdrinking_year: \",z)\n",
    "if z > 3.9 or z < -3.9:\n",
    "    print(\"Feature is rejected\")\n",
    "else:\n",
    "    #calculating p-value:\n",
    "    p_value() #probability for z-score(0.0) = 0.5 #suppose significance level alpha = 0.05"
   ]
  },
  {
   "cell_type": "code",
   "execution_count": 43,
   "metadata": {},
   "outputs": [
    {
     "name": "stdout",
     "output_type": "stream",
     "text": [
      "population mean for mins_exercising_year:  44.609088903595854\n",
      "Sample mean of mins_exercising_year:  83.815\n",
      "sample std for mins_exercising_year:  368.6119514815004\n",
      "z-score for mins_exercising_year:  1.5041707403920466\n",
      "p_value:  0.1399999999999999\n",
      "Feature is not rejected\n"
     ]
    }
   ],
   "source": [
    "#calculating p-value for mins_exercising_year:\n",
    "\n",
    "#population mean:\n",
    "population_mean = data['mins_exercising_year'].mean()\n",
    "print(\"population mean for mins_exercising_year: \",population_mean)\n",
    "\n",
    "#sample mean:\n",
    "sample = 200\n",
    "sum = 0.0\n",
    "for i in range(sample):\n",
    "    sum += data['mins_exercising_year'].iloc[i]\n",
    "    sample_mean = sum/sample\n",
    "print(\"Sample mean of mins_exercising_year: \",sample_mean)\n",
    "\n",
    "#calculating sample standard deviation:\n",
    "deviation_sum = 0\n",
    "for i in range(sample):\n",
    "    deviation_sum += abs((data['mins_exercising_year'].iloc[i]- sample_mean))**2   \n",
    "sample_std = np.sqrt(deviation_sum/sample)\n",
    "print(\"sample std for mins_exercising_year: \",sample_std)\n",
    "\n",
    "#calculating z-score:\n",
    "z = (sample_mean - population_mean)/(sample_std/np.sqrt(sample))\n",
    "print(\"z-score for mins_exercising_year: \",z)\n",
    "if z > 3.9 or z < -3.9:\n",
    "    print(\"Feature is rejected\")\n",
    "else:\n",
    "    #calculating p-value:\n",
    "    p_value(0.93) #probability for z-score(1.5) = 0.93 #suppose significance level alpha = 0.05"
   ]
  },
  {
   "cell_type": "code",
   "execution_count": 44,
   "metadata": {},
   "outputs": [
    {
     "name": "stdout",
     "output_type": "stream",
     "text": [
      "population mean for works_hours:  39.91631737627767\n",
      "Sample mean of works_hours:  39.47\n",
      "sample std for works_hours:  11.898281388503143\n",
      "z-score for works_hours:  -0.5304867703536988\n",
      "p_value:  0.6\n",
      "Feature is not rejected\n"
     ]
    }
   ],
   "source": [
    "#calculating p-value for works_hours:\n",
    "\n",
    "#population mean:\n",
    "population_mean = data['works_hours'].mean()\n",
    "print(\"population mean for works_hours: \",population_mean)\n",
    "\n",
    "#sample mean:\n",
    "sample = 200\n",
    "sum = 0.0\n",
    "for i in range(sample):\n",
    "    sum += data['works_hours'].iloc[i]\n",
    "    sample_mean = sum/sample\n",
    "print(\"Sample mean of works_hours: \",sample_mean)\n",
    "\n",
    "#calculating sample standard deviation:\n",
    "deviation_sum = 0\n",
    "for i in range(sample):\n",
    "    deviation_sum += abs((data['works_hours'].iloc[i]- sample_mean))**2   \n",
    "sample_std = np.sqrt(deviation_sum/sample)\n",
    "print(\"sample std for works_hours: \",sample_std)\n",
    "\n",
    "#calculating z-score:\n",
    "z = (sample_mean - population_mean)/(sample_std/np.sqrt(sample))\n",
    "print(\"z-score for works_hours: \",z)\n",
    "if z > 3.9 or z < -3.9:\n",
    "    print(\"Feature is rejected\")\n",
    "else:\n",
    "    #calculating p-value:\n",
    "    p_value(0.3) #probability for z-score(-0.53) = 0.3 #suppose significance level alpha = 0.05"
   ]
  },
  {
   "cell_type": "code",
   "execution_count": 45,
   "metadata": {},
   "outputs": [
    {
     "name": "stdout",
     "output_type": "stream",
     "text": [
      "population mean for tea_per_year:  178.46746084270902\n",
      "Sample mean of tea_per_year:  172.105\n",
      "sample std for tea_per_year:  163.85452076460996\n",
      "z-score for tea_per_year:  -0.5491382460391816\n",
      "p_value:  0.58\n",
      "Feature is not rejected\n"
     ]
    }
   ],
   "source": [
    "#calculating p-value for tea_per_year:\n",
    "\n",
    "#population mean:\n",
    "population_mean = data['tea_per_year'].mean()\n",
    "print(\"population mean for tea_per_year: \",population_mean)\n",
    "\n",
    "#sample mean:\n",
    "sample = 200\n",
    "sum = 0.0\n",
    "for i in range(sample):\n",
    "    sum += data['tea_per_year'].iloc[i]\n",
    "    sample_mean = sum/sample\n",
    "print(\"Sample mean of tea_per_year: \",sample_mean)\n",
    "\n",
    "#calculating sample standard deviation:\n",
    "deviation_sum = 0\n",
    "for i in range(sample):\n",
    "    deviation_sum += abs((data['tea_per_year'].iloc[i]- sample_mean))**2   \n",
    "sample_std = np.sqrt(deviation_sum/sample)\n",
    "print(\"sample std for tea_per_year: \",sample_std)\n",
    "\n",
    "#calculating z-score:\n",
    "z = (sample_mean - population_mean)/(sample_std/np.sqrt(sample))\n",
    "print(\"z-score for tea_per_year: \",z)\n",
    "if z > 3.9 or z < -3.9:\n",
    "    print(\"Feature is rejected\")\n",
    "else:\n",
    "    #calculating p-value:\n",
    "    p_value(0.29) #probability for z-score(-0.55) = 0.29 #suppose significance level alpha = 0.05"
   ]
  },
  {
   "cell_type": "code",
   "execution_count": 31,
   "metadata": {},
   "outputs": [
    {
     "name": "stdout",
     "output_type": "stream",
     "text": [
      "population mean for coffee_per_year:  295.9346275461431\n",
      "Sample mean of coffee_per_year:  181.825\n",
      "sample std for coffee_per_year:  150.93254909064515\n",
      "z-score for coffee_per_year:  -10.69188745869397\n",
      "Feature is rejected\n"
     ]
    }
   ],
   "source": [
    "data['coffee_per_year'].fillna(0,inplace=True)\n",
    "\n",
    "#calculating p-value for coffee_per_year:\n",
    "\n",
    "#population mean:\n",
    "population_mean = data['coffee_per_year'].mean()\n",
    "print(\"population mean for coffee_per_year: \",population_mean)\n",
    "\n",
    "#sample mean:\n",
    "sample = 200\n",
    "sum = 0.0\n",
    "for i in range(sample):\n",
    "    sum += data['coffee_per_year'].iloc[i]\n",
    "    sample_mean = sum/sample\n",
    "print(\"Sample mean of coffee_per_year: \",sample_mean)\n",
    "\n",
    "#calculating sample standard deviation:\n",
    "deviation_sum = 0\n",
    "for i in range(sample):\n",
    "    deviation_sum += abs((data['coffee_per_year'].iloc[i]- sample_mean))**2   \n",
    "sample_std = np.sqrt(deviation_sum/sample)\n",
    "print(\"sample std for coffee_per_year: \",sample_std)\n",
    "\n",
    "#calculating z-score:\n",
    "z = (sample_mean - population_mean)/(sample_std/np.sqrt(sample))\n",
    "print(\"z-score for coffee_per_year: \",z)\n",
    "if z > 3.9 or z < -3.9:\n",
    "    print(\"Feature is rejected\")\n",
    "else:\n",
    "    #calculating p-value:\n",
    "    p_value()  #suppose significance level alpha = 0.05\n",
    "    "
   ]
  },
  {
   "cell_type": "code",
   "execution_count": 32,
   "metadata": {},
   "outputs": [
    {
     "name": "stdout",
     "output_type": "stream",
     "text": [
      "population mean for great_customer_class:  0.08588866828443267\n",
      "Sample mean of great_customer_class:  0.0\n",
      "sample std for great_customer_class:  0.0\n",
      "z-score for great_customer_class:  -inf\n",
      "Feature is rejected\n"
     ]
    },
    {
     "name": "stderr",
     "output_type": "stream",
     "text": [
      "C:\\Users\\user\\AppData\\Local\\Temp\\ipykernel_6724\\3808754446.py:23: RuntimeWarning: divide by zero encountered in scalar divide\n",
      "  z = (sample_mean - population_mean)/(sample_std/np.sqrt(sample))\n"
     ]
    }
   ],
   "source": [
    "\n",
    "#calculating p-value for great_customer_class:\n",
    "\n",
    "#population mean:\n",
    "population_mean = data['great_customer_class'].mean()\n",
    "print(\"population mean for great_customer_class: \",population_mean)\n",
    "\n",
    "#sample mean:\n",
    "sample = 200\n",
    "sum = 0.0\n",
    "for i in range(sample):\n",
    "    sum += data['great_customer_class'].iloc[i]\n",
    "    sample_mean = sum/sample\n",
    "print(\"Sample mean of great_customer_class: \",sample_mean)\n",
    "\n",
    "#calculating sample standard deviation:\n",
    "deviation_sum = 0\n",
    "for i in range(sample):\n",
    "    deviation_sum += abs((data['great_customer_class'].iloc[i]- sample_mean))**2   \n",
    "sample_std = np.sqrt(deviation_sum/sample)\n",
    "print(\"sample std for great_customer_class: \",sample_std)\n",
    "\n",
    "#calculating z-score:\n",
    "z = (sample_mean - population_mean)/(sample_std/np.sqrt(sample))\n",
    "print(\"z-score for great_customer_class: \",z)\n",
    "if z > 3.9 or z < -3.9:\n",
    "    print(\"Feature is rejected\")\n",
    "else:\n",
    "    #calculating p-value:\n",
    "    p_value() #probability for z-score(0.0) = 0.5 #suppose significance level alpha = 0.05"
   ]
  },
  {
   "cell_type": "code",
   "execution_count": null,
   "metadata": {},
   "outputs": [],
   "source": []
  }
 ],
 "metadata": {
  "kernelspec": {
   "display_name": "Python 3",
   "language": "python",
   "name": "python3"
  },
  "language_info": {
   "codemirror_mode": {
    "name": "ipython",
    "version": 3
   },
   "file_extension": ".py",
   "mimetype": "text/x-python",
   "name": "python",
   "nbconvert_exporter": "python",
   "pygments_lexer": "ipython3",
   "version": "3.11.3"
  },
  "orig_nbformat": 4
 },
 "nbformat": 4,
 "nbformat_minor": 2
}
